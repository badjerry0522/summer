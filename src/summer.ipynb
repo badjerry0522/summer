{
 "cells": [
  {
   "cell_type": "markdown",
   "metadata": {},
   "source": [
    "# 载入库和头文件，并添加上级目录"
   ]
  },
  {
   "cell_type": "code",
   "execution_count": 1,
   "metadata": {},
   "outputs": [
    {
     "name": "stdout",
     "output_type": "stream",
     "text": [
      "/home/xilinx/jupyter_notebooks\n"
     ]
    }
   ],
   "source": [
    "import sys\n",
    "import os\n",
    "print(os.getcwd())\n",
    "sys.path.append('/home/xilinx/jupyter_notebooks/summer/modules/')  # 添加上级目录到路径\n",
    "import set_lmclks\n",
    "from pynq import Overlay\n",
    "from rfsoc_book.helper_functions import scatterplot\n",
    "import shlex\n",
    "import argparse\n",
    "import configs as cfgs\n",
    "import parse_args\n",
    "import receiver as rx\n",
    "import transmitter as tx\n",
    "import threading\n",
    "import tx_thread\n",
    "import plt_funcs as pf\n",
    "import data_func as df\n",
    "import matplotlib.pyplot as plt\n",
    "import numpy as np\n",
    "import ipywidgets as widgets\n",
    "from IPython.display import display\n",
    "import plotly.graph_objs as go\n",
    "from threading import Thread\n",
    "import time\n"
   ]
  },
  {
   "cell_type": "markdown",
   "metadata": {},
   "source": [
    "# 载入参数、配置时钟、载入硬件\n",
    "1、从arg_configs.txt中读取硬件参数\n",
    "\n",
    "2、通过set_lmclks.set_custom_lmclks()进行时钟配置。目前使用的时钟文件位于/modules/xrfclk中\n",
    "\n",
    "3、向FPGA中载入硬件：ol = Overlay(ofdm_cfgs.RTL_BITFILE) RTL_BITFILE在/home/xilinx/work/summer/bitfile/目录下，这有几个bitfile，每个bitfile都如目录名所示。 *注意！在载入硬件后，发射机就会开始不断向DAC发射信号，若要接前端，注意功率问题！*"
   ]
  },
  {
   "cell_type": "code",
   "execution_count": 2,
   "metadata": {},
   "outputs": [
    {
     "name": "stdout",
     "output_type": "stream",
     "text": [
      "Parsed args from file: 'Namespace(EXE_MODE='RTL_MODE', N=64, QAM_MODE=4, N_OFDM=4, PILOT_MODE='ZEROS', N_FRAMES=100, PEAK=None, SNR=30, TX_INPUT_QAM_FILE='/home/xilinx/jupyter_notebooks/summer/dats/rtl_input/tx_input_qam.txt', TX_OUTPUT_QAM_NO_PILOT_FILE='/home/xilinx/jupyter_notebooks/summer/dats/rtl_input/tx_output_qam_no_pilot.txt', TX_OUTPUT_QAM_PILOT_FILE='/home/xilinx/jupyter_notebooks/summer/dats/rtl_input/tx_output_qam_pilot.txt', TX_OUTPUT_SINGLE_FRAME_FILE='/home/xilinx/jupyter_notebooks/summer/dats/rtl_input/single_frame.txt', TX_OUTPUT_FILE='/home/xilinx/jupyter_notebooks/summer/dats/rtl_input/rtl_test_input.txt', CHANNEL_OUTPUT_FILE=None, RTL_OUTPUT_I_FILE='/home/xilinx/work/test_AXI/2024_2_26test/rtl_output_I.txt', RTL_OUTPUT_Q_FILE='/home/xilinx/work/test_AXI/2024_2_26test/rtl_output_Q.txt', RTL_OUTPUT_COMPLEX_FILE=None, DATS_DIR='/home/xilinx/jupyter_notebooks/summer/dats/rx_output/', RTL_BITFILE='/home/xilinx/work/summer/bitfile/test_fixed_tx_16QAM_2Ghz/summer_design_wrapper.bit')'\n",
      "EXE_MODE: RTL_MODE\n",
      "QAM_MODE: 4\n",
      "N_FRAMES: 100\n",
      "N: 64\n",
      "CP_LEN: 16\n",
      "LLTF_GAIN: 30000\n",
      "LTF_SEQ_LEN: 64\n",
      "LTFcp: [ 0  1 -1 -1  1  1 -1  1 -1  1 -1 -1 -1 -1 -1  1  1 -1 -1  1 -1  1 -1  1\n",
      "  1  1  1  0  0  0  0  0]\n",
      "LTF_matched_filter: [     0      0      0      0      0  30000  30000  30000  30000 -30000\n",
      "  30000 -30000  30000 -30000 -30000  30000  30000 -30000 -30000 -30000\n",
      " -30000 -30000  30000 -30000  30000 -30000  30000      0 -30000  30000\n",
      "      0  30000  30000  30000  30000 -30000  30000 -30000  30000  30000\n",
      "  30000 -30000 -30000  30000  30000  30000  30000  30000  30000 -30000\n",
      "  30000 -30000  30000  30000 -30000 -30000  30000  30000      0      0\n",
      "      0      0      0      0]\n",
      "LLTF: [     0  30000 -30000 -30000  30000  30000 -30000  30000 -30000  30000\n",
      " -30000 -30000 -30000 -30000 -30000  30000  30000 -30000 -30000  30000\n",
      " -30000  30000 -30000  30000  30000  30000  30000      0      0      0\n",
      "      0      0      0      0      0      0      0      0  30000  30000\n",
      " -30000 -30000  30000  30000 -30000  30000 -30000  30000  30000  30000\n",
      "  30000  30000  30000 -30000 -30000  30000  30000 -30000  30000 -30000\n",
      "  30000  30000  30000  30000      0  30000 -30000 -30000  30000  30000\n",
      " -30000  30000 -30000  30000 -30000 -30000 -30000 -30000 -30000  30000\n",
      "  30000 -30000 -30000  30000 -30000  30000 -30000  30000  30000  30000\n",
      "  30000      0      0      0      0      0      0      0      0      0\n",
      "      0      0  30000  30000 -30000 -30000  30000  30000 -30000  30000\n",
      " -30000  30000  30000  30000  30000  30000  30000 -30000 -30000  30000\n",
      "  30000 -30000  30000 -30000  30000  30000  30000  30000      0  30000\n",
      " -30000 -30000  30000  30000 -30000  30000 -30000  30000 -30000 -30000\n",
      " -30000 -30000 -30000  30000  30000 -30000 -30000  30000 -30000  30000\n",
      " -30000  30000  30000  30000  30000      0      0      0      0      0]\n",
      "LTF_DATA_LEN: 64\n",
      "LTF_CP_LEN: 32\n",
      "LTF_WITH_CP_LEN: 160\n",
      "N_TRAINING_SEQ: 2\n",
      "TRAINING_SEQ_LEN: 160\n",
      "N_DATA_SC: 52\n",
      "N_PILOT_SC: 0\n",
      "N_GUARD_SC: 12\n",
      "N_SOLID_SC: 52\n",
      "N_DATA_QAM_SYMB: 208\n",
      "PAYLOAD_LEN: 320\n",
      "FRAME_LEN: 640\n",
      "OFDM_DATA_INDEX: [ 6  7  8  9 10 11 12 13 14 15 16 17 18 19 20 21 22 23 24 25 26 27 28 29\n",
      " 30 31 33 34 35 36 37 38 39 40 41 42 43 44 45 46 47 48 49 50 51 52 53 54\n",
      " 55 56 57 58]\n",
      "OFDM_PILOT_INDEX: None\n",
      "OFDM_GUARD_INDEX: [ 0  1  2  3  4  5 32 59 60 61 62 63]\n",
      "OFDM_SOLID_INDEX: [ 6  7  8  9 10 11 12 13 14 15 16 17 18 19 20 21 22 23 24 25 26 27 28 29\n",
      " 30 31 33 34 35 36 37 38 39 40 41 42 43 44 45 46 47 48 49 50 51 52 53 54\n",
      " 55 56 57 58]\n",
      "N_TRAINING_SEQ: 2\n",
      "TRAINING_SEQ_LEN: 160\n",
      "QAM_GAIN: 32767\n",
      "LLTF_GAIN: 30000\n",
      "TRAINING_SEQ_GAIN: 65536\n",
      "PILOT_GAIN: 32767\n",
      "QAM_MAP: {0: (32767+32767j), 1: (-32767+32767j), 2: (32767-32767j), 3: (-32767-32767j)}\n",
      "PEAK: 9e+18\n",
      "SNR: 30\n",
      "TX_INPUT_QAM_FILE: /home/xilinx/jupyter_notebooks/summer/dats/rtl_input/tx_input_qam.txt\n",
      "TX_OUTPUT_QAM_NO_PILOT_FILE: /home/xilinx/jupyter_notebooks/summer/dats/rtl_input/tx_output_qam_no_pilot.txt\n",
      "TX_OUTPUT_QAM_PILOT_FILE: /home/xilinx/jupyter_notebooks/summer/dats/rtl_input/tx_output_qam_pilot.txt\n",
      "TX_OUTPUT_FILE: /home/xilinx/jupyter_notebooks/summer/dats/rtl_input/rtl_test_input.txt\n",
      "CHANNEL_OUTPUT_FILE: ./dats/simu/channel_output.txt\n",
      "RTL_OUTPUT_I_FILE: /home/xilinx/work/test_AXI/2024_2_26test/rtl_output_I.txt\n",
      "RTL_OUTPUT_Q_FILE: /home/xilinx/work/test_AXI/2024_2_26test/rtl_output_Q.txt\n",
      "/home/xilinx/jupyter_notebooks\n",
      "root =  /home/xilinx/jupyter_notebooks/badjerry_ofdm_py/modules/ dirs= ['xrfclk', '__pycache__', '.ipynb_checkpoints']\n",
      "d = xrfclk\n",
      "d = __pycache__\n",
      "d = .ipynb_checkpoints\n",
      "root =  /home/xilinx/jupyter_notebooks/badjerry_ofdm_py/modules/xrfclk dirs= ['lmk04208']\n",
      "d = lmk04208\n",
      "root =  /home/xilinx/jupyter_notebooks/badjerry_ofdm_py/modules/xrfclk/lmk04208 dirs= []\n",
      "root =  /home/xilinx/jupyter_notebooks/badjerry_ofdm_py/modules/__pycache__ dirs= []\n",
      "root =  /home/xilinx/jupyter_notebooks/badjerry_ofdm_py/modules/.ipynb_checkpoints dirs= []\n",
      "lmclk_loc =  /home/xilinx/jupyter_notebooks/badjerry_ofdm_py/modules/xrfclk/lmk04208\n",
      "lmk_loc =  /home/xilinx/jupyter_notebooks/badjerry_ofdm_py/modules/xrfclk/lmk04208/LMK04208_122.88.txt  lmx_loc =  /home/xilinx/jupyter_notebooks/badjerry_ofdm_py/modules/xrfclk/lmk04208/LMX2594_409.6.txt\n"
     ]
    },
    {
     "data": {
      "application/javascript": "\ntry {\nrequire(['notebook/js/codecell'], function(codecell) {\n  codecell.CodeCell.options_default.highlight_modes[\n      'magic_text/x-csrc'] = {'reg':[/^%%microblaze/]};\n  Jupyter.notebook.events.one('kernel_ready.Kernel', function(){\n      Jupyter.notebook.get_cells().map(function(cell){\n          if (cell.cell_type == 'code'){ cell.auto_highlight(); } }) ;\n  });\n});\n} catch (e) {};\n"
     },
     "metadata": {},
     "output_type": "display_data"
    },
    {
     "data": {
      "application/javascript": "\ntry {\nrequire(['notebook/js/codecell'], function(codecell) {\n  codecell.CodeCell.options_default.highlight_modes[\n      'magic_text/x-csrc'] = {'reg':[/^%%pybind11/]};\n  Jupyter.notebook.events.one('kernel_ready.Kernel', function(){\n      Jupyter.notebook.get_cells().map(function(cell){\n          if (cell.cell_type == 'code'){ cell.auto_highlight(); } }) ;\n  });\n});\n} catch (e) {};\n"
     },
     "metadata": {},
     "output_type": "display_data"
    }
   ],
   "source": [
    "args = parse_args.parse_args_from_file(\"/home/xilinx/jupyter_notebooks/summer/modules/arg_configs.txt\")\n",
    "ofdm_cfgs = cfgs.ofdm_config(args)\n",
    "if(ofdm_cfgs.init_ok != 1):\n",
    "    print(\"bad init\")\n",
    "    sys.exit()\n",
    "ofdm_cfgs.display()\n",
    "import sys\n",
    "import os\n",
    "print(os.getcwd())\n",
    "sys.path.append('/home/xilinx/jupyter_notebooks/summer/modules/')  # 添加上级目录到路径\n",
    "import set_lmclks\n",
    "from pynq import Overlay\n",
    "set_lmclks.set_custom_lmclks()\n",
    "ol = Overlay(ofdm_cfgs.RTL_BITFILE)"
   ]
  },
  {
   "cell_type": "markdown",
   "metadata": {},
   "source": [
    "# 生成发射数据（若只进行接收测试，不需要运行）\n",
    "会根据输入的参数，生成发射数据，并保存在/dats/rtl_input中。其中，rtl_test_input.txt可以直接用于生成coe file"
   ]
  },
  {
   "cell_type": "code",
   "execution_count": null,
   "metadata": {},
   "outputs": [],
   "source": [
    "tx0 = tx.tx(ofdm_cfgs)\n",
    "tx0.tx_run()"
   ]
  },
  {
   "cell_type": "markdown",
   "metadata": {},
   "source": [
    "# 初始化DMA"
   ]
  },
  {
   "cell_type": "code",
   "execution_count": 3,
   "metadata": {},
   "outputs": [
    {
     "name": "stdout",
     "output_type": "stream",
     "text": [
      "rx_Q_dma._offset =  48\n",
      "rx mem init complete\n",
      "rx mem init complete\n"
     ]
    }
   ],
   "source": [
    "import numpy as np\n",
    "from pynq import allocate\n",
    "import dma_opts \n",
    "\n",
    "rx_I_dma = ol.axi_dma_0\n",
    "rx_Q_dma = ol.axi_dma_1\n",
    "\n",
    "print(\"rx_Q_dma._offset = \",rx_Q_dma.recvchannel._offset)\n",
    "\n",
    "\n",
    "#input_buffer = dma_opts.init_tx_mem(ofdm_cfgs.TX_OUTPUT_FILE)\n",
    "output_I_buffer = dma_opts.init_rx_mem(3200000) # the input is KB\n",
    "output_Q_buffer = dma_opts.init_rx_mem(3200000) # the input is KB"
   ]
  },
  {
   "cell_type": "markdown",
   "metadata": {},
   "source": [
    "# 第一次时间同步，看信号是否正确"
   ]
  },
  {
   "cell_type": "code",
   "execution_count": 4,
   "metadata": {},
   "outputs": [
    {
     "name": "stdout",
     "output_type": "stream",
     "text": [
      "rx dma transferring once\n",
      "rx dma transfer once complete\n",
      "rx dma transferring once\n",
      "rx dma transfer once complete\n",
      "(array([], dtype=int64), {'peak_heights': array([], dtype=float64)})\n"
     ]
    },
    {
     "data": {
      "application/vnd.jupyter.widget-view+json": {
       "model_id": "1f92b5395a0c42e8921307a5ed4e1d39",
       "version_major": 2,
       "version_minor": 0
      },
      "text/plain": [
       "VBox(children=(Button(description='Update Plot', style=ButtonStyle()), FigureWidget({\n",
       "    'data': [{'mode': 'l…"
      ]
     },
     "metadata": {},
     "output_type": "display_data"
    }
   ],
   "source": [
    "dma_opts.rx_dma_transfer_once(rx_I_dma,output_I_buffer)\n",
    "dma_opts.rx_dma_transfer_once(rx_Q_dma,output_Q_buffer)\n",
    "df.save_array_to_file(ofdm_cfgs.RTL_OUTPUT_I_FILE,output_I_buffer[0:2000])\n",
    "df.save_array_to_file(ofdm_cfgs.RTL_OUTPUT_Q_FILE,output_Q_buffer[0:2000])\n",
    "rx0 = rx.rx(ofdm_cfgs)\n",
    "rx0.first_time_sync()\n",
    "\n",
    "def display_real_time_plot(rx_instance, update_interval=1):\n",
    "    \"\"\"\n",
    "    显示 RX 类实例的 time_sync_res_before_cutting 数组的实时更新图表。\n",
    "\n",
    "    参数：\n",
    "    rx_instance (RX): RX 类的实例\n",
    "    update_interval (int): 更新间隔时间（秒）\n",
    "    \"\"\"\n",
    "\n",
    "    # 初始化图表\n",
    "    fig = go.FigureWidget()\n",
    "    scatter = fig.add_scatter(y=rx_instance.time_sync_res_before_cutting, mode='lines+markers')\n",
    "    fig.update_layout(\n",
    "        title='Real-time Array Plot',\n",
    "        xaxis_title='Index',\n",
    "        yaxis_title='Value',\n",
    "        yaxis=dict(range=[0, np.max(rx_instance.time_sync_res_before_cutting) * 1.1])\n",
    "    )\n",
    "\n",
    "    def update_plot():\n",
    "        dma_opts.rx_dma_transfer_once(rx_I_dma, output_I_buffer)\n",
    "        dma_opts.rx_dma_transfer_once(rx_Q_dma, output_Q_buffer)\n",
    "        df.save_array_to_file(ofdm_cfgs.RTL_OUTPUT_I_FILE, output_I_buffer[0:2000])\n",
    "        df.save_array_to_file(ofdm_cfgs.RTL_OUTPUT_Q_FILE, output_Q_buffer[0:2000])\n",
    "\n",
    "        rx_instance.reload_received_sig()\n",
    "        rx_instance.first_time_sync()  # 更新数组\n",
    "        with fig.batch_update():\n",
    "            scatter.data[0].y = rx_instance.time_sync_res_before_cutting\n",
    "            scatter.data[0].x = list(range(len(rx_instance.time_sync_res_before_cutting)))\n",
    "            fig.update_layout(\n",
    "                yaxis=dict(range=[0, np.max(rx_instance.time_sync_res_before_cutting) * 1.1])\n",
    "            )\n",
    "\n",
    "    # 创建开始按钮\n",
    "    button = widgets.Button(description='Update Plot')\n",
    "\n",
    "    # 定义按钮点击事件\n",
    "    def on_button_click(b):\n",
    "        update_plot()\n",
    "\n",
    "    button.on_click(on_button_click)\n",
    "    \n",
    "    # 使用 VBox 组件显示按钮和绘图区域\n",
    "    vbox = widgets.VBox([button, fig])\n",
    "    display(vbox)\n",
    "\n",
    "display_real_time_plot(rx0, update_interval=1)"
   ]
  },
  {
   "cell_type": "markdown",
   "metadata": {},
   "source": [
    "# 输入截断大小和峰"
   ]
  },
  {
   "cell_type": "code",
   "execution_count": 5,
   "metadata": {},
   "outputs": [
    {
     "data": {
      "application/vnd.jupyter.widget-view+json": {
       "model_id": "f200b7666e5c46489fcc86558b7d4f08",
       "version_major": 2,
       "version_minor": 0
      },
      "text/plain": [
       "Text(value='', description='start_index_input:')"
      ]
     },
     "metadata": {},
     "output_type": "display_data"
    },
    {
     "data": {
      "application/vnd.jupyter.widget-view+json": {
       "model_id": "c01ac29c6d9f4d2ebe26d1f6a56d1c1a",
       "version_major": 2,
       "version_minor": 0
      },
      "text/plain": [
       "Text(value='', description='end_index_input:')"
      ]
     },
     "metadata": {},
     "output_type": "display_data"
    },
    {
     "data": {
      "application/vnd.jupyter.widget-view+json": {
       "model_id": "808800ab5cd5454e9e58cd8256cb868e",
       "version_major": 2,
       "version_minor": 0
      },
      "text/plain": [
       "Text(value='', description='peak_height_input:')"
      ]
     },
     "metadata": {},
     "output_type": "display_data"
    },
    {
     "data": {
      "application/vnd.jupyter.widget-view+json": {
       "model_id": "fe5623b253934ce09c0aed91f0ae8389",
       "version_major": 2,
       "version_minor": 0
      },
      "text/plain": [
       "Button(description='read', style=ButtonStyle())"
      ]
     },
     "metadata": {},
     "output_type": "display_data"
    },
    {
     "data": {
      "application/vnd.jupyter.widget-view+json": {
       "model_id": "28fc7ccf2c1c4a4db79010a3f7e1c169",
       "version_major": 2,
       "version_minor": 0
      },
      "text/plain": [
       "Output()"
      ]
     },
     "metadata": {},
     "output_type": "display_data"
    },
    {
     "name": "stdout",
     "output_type": "stream",
     "text": [
      "start_index_int =  0 end_index_int 2000 peak_height_int 200000000000000000\n"
     ]
    }
   ],
   "source": [
    "import ipywidgets as widgets\n",
    "from IPython.display import display, clear_output\n",
    "# 创建文本输出区域\n",
    "output = widgets.Output()\n",
    "\n",
    "# 创建文本输入框\n",
    "start_index_input = widgets.Text(value='', description='start_index_input:', disabled=False)\n",
    "end_index_input = widgets.Text(value='', description='end_index_input:', disabled=False)\n",
    "peak_height_input = widgets.Text(value='', description='peak_height_input:', disabled=False)\n",
    "# 创建按钮\n",
    "button = widgets.Button(description='read')\n",
    "\n",
    "# 定义按钮点击的处理函数\n",
    "def on_button_click(b):\n",
    "    with output:\n",
    "        clear_output(wait=True)  # 清空之前的输出\n",
    "        print(f'你输入的内容是: start_index =  {start_index_input.value}, end_index = {end_index_input.value}, peak_height = {peak_height_input.value}')\n",
    "    \n",
    "    start_index_int = int(start_index_input.value)\n",
    "    end_index_int = int(end_index_input.value)\n",
    "    peak_height_int = int(float(peak_height_input.value))\n",
    "    \n",
    "    print(\"start_index_int = \",start_index_int,\"end_index_int\",end_index_int,\"peak_height_int\",peak_height_int)\n",
    "    \n",
    "    rx0.cutting_recv_sig(start_index_int,end_index_int,peak_height_int)\n",
    "    \n",
    "    start_index_input.value = ''  # 重置文本框内容\n",
    "    end_index_input.value = ''  # 重置文本框内容\n",
    "    peak_height_input.value = ''  # 重置文本框内容\n",
    "    \n",
    "\n",
    "# 绑定事件处理函数到按钮\n",
    "button.on_click(on_button_click)\n",
    "\n",
    "# 显示控件\n",
    "display(start_index_input,end_index_input,peak_height_input, button, output)"
   ]
  },
  {
   "cell_type": "markdown",
   "metadata": {},
   "source": [
    "# 运行就行"
   ]
  },
  {
   "cell_type": "code",
   "execution_count": 6,
   "metadata": {},
   "outputs": [
    {
     "name": "stdout",
     "output_type": "stream",
     "text": [
      "(array([ 397,  461, 1037, 1101, 1677, 1741]), {'peak_heights': array([2.35176502e+17, 2.44194106e+17, 2.51211465e+17, 2.45827557e+17,\n",
      "       2.36925563e+17, 2.41709890e+17])})\n",
      "num_frames =  3\n",
      "\n",
      "\n",
      "\n",
      " in 0 frames:\n",
      " LTF start index =  333 \n",
      "training_seq_start_index =  493 \n",
      "payload_start_index = 653 \n",
      "\n",
      "\n",
      "\n",
      "\n",
      "\n",
      "\n",
      " in 1 frames:\n",
      " LTF start index =  973 \n",
      "training_seq_start_index =  1133 \n",
      "payload_start_index = 1293 \n",
      "\n",
      "\n",
      "\n",
      "last frame not complete\n",
      "i= 0 est_res: [-1.3809204e-03+0.j          1.7869273e-02+0.00158661j\n",
      "  1.9720716e-02-0.00103165j -1.8378788e-03-0.00013562j\n",
      " -8.2469755e-04-0.00062758j  1.7146228e-02+0.00165115j\n",
      "  1.8640051e-02-0.00065382j  1.4264307e-02+0.00182167j\n",
      " -7.7612244e-04+0.00178962j -2.1971648e-03+0.00134448j\n",
      "  4.1904565e-04+0.00116154j  1.5281004e-02+0.00319889j\n",
      "  1.6891230e-02+0.00029125j  1.6658392e-02-0.00164141j\n",
      "  1.2674063e-02+0.00464321j  6.5289751e-05-0.00100772j\n",
      "  1.3511658e-02-0.00364685j  1.4345311e-02+0.002492j\n",
      "  3.4572739e-05+0.00025651j  1.0613734e-03+0.00152576j\n",
      "  1.0715943e-03-0.00171155j  1.4986805e-02+0.01086106j\n",
      "  1.9920200e-02+0.00943156j  2.2539241e-02+0.00381596j\n",
      "  5.8190979e-04+0.00092645j -2.5098289e-03+0.00251941j\n",
      " -3.2498967e-04-0.0004464j   1.2132429e-03-0.00230001j\n",
      "  2.0092819e-02+0.0066191j   1.3518858e-03-0.00173995j\n",
      "  3.6390719e-03-0.00176175j  1.5284271e-02+0.00146161j\n",
      "  2.4314880e-02+0.j          1.5284271e-02-0.00146161j\n",
      " -3.6390719e-03-0.00176175j -1.3518858e-03-0.00173995j\n",
      "  2.0092819e-02-0.0066191j  -1.2132429e-03-0.00230001j\n",
      "  3.2498967e-04-0.0004464j   2.5098289e-03+0.00251941j\n",
      " -5.8190979e-04+0.00092645j  2.2539241e-02-0.00381596j\n",
      "  1.9920200e-02-0.00943156j  1.4986805e-02-0.01086106j\n",
      " -1.0715943e-03-0.00171155j -1.0613734e-03+0.00152576j\n",
      " -3.4572739e-05+0.00025651j  1.4345311e-02-0.002492j\n",
      "  1.3511658e-02+0.00364685j -6.5289751e-05-0.00100772j\n",
      "  1.2674063e-02-0.00464321j  1.6658392e-02+0.00164141j\n",
      "  1.6891230e-02-0.00029125j  1.5281004e-02-0.00319889j\n",
      " -4.1904565e-04+0.00116154j  2.1971648e-03+0.00134448j\n",
      "  7.7612244e-04+0.00178962j  1.4264307e-02-0.00182167j\n",
      "  1.8640051e-02+0.00065382j  1.7146228e-02-0.00165115j\n",
      "  8.2469755e-04-0.00062758j  1.8378788e-03-0.00013562j\n",
      "  1.9720716e-02+0.00103165j  1.7869273e-02-0.00158661j]\n",
      "i= 1 est_res: [-0.00186157+0.0000000e+00j  0.01841688+9.1870599e-05j\n",
      "  0.01752784+2.2045284e-04j -0.00037888-6.0407544e-04j\n",
      "  0.0029397 -7.1728381e-04j  0.02001984-9.5909613e-04j\n",
      "  0.01721797+3.2771507e-04j  0.01428435-2.1812831e-04j\n",
      " -0.00193742+9.4501500e-04j -0.00028894-1.6091409e-03j\n",
      "  0.0039453 +5.5810082e-04j  0.01556119+1.1972607e-03j\n",
      "  0.01605988+2.0926739e-03j  0.01430953+8.6291996e-04j\n",
      "  0.01373082+5.5813738e-03j  0.00155747+6.3674373e-04j\n",
      "  0.01322937-3.6926270e-03j  0.01418895+4.7269468e-03j\n",
      "  0.00018082-1.5672297e-03j  0.0001405 +3.2961270e-04j\n",
      "  0.00037222-3.0218945e-03j  0.01526793+1.0477750e-02j\n",
      "  0.02235208+7.7524041e-03j  0.02219217+6.2192394e-03j\n",
      "  0.00141952-9.7553257e-04j  0.00014072-2.9622755e-04j\n",
      "  0.00118497+5.2061607e-04j  0.00044518+6.8212650e-04j\n",
      "  0.02056045+7.2035934e-03j  0.00147504+3.9671668e-05j\n",
      "  0.00025892-8.2546112e-04j  0.01364618+3.9742328e-04j\n",
      "  0.02398682+0.0000000e+00j  0.01364618-3.9742328e-04j\n",
      " -0.00025892-8.2546112e-04j -0.00147504+3.9671668e-05j\n",
      "  0.02056045-7.2035934e-03j -0.00044518+6.8212650e-04j\n",
      " -0.00118497+5.2061607e-04j -0.00014072-2.9622755e-04j\n",
      " -0.00141952-9.7553257e-04j  0.02219217-6.2192394e-03j\n",
      "  0.02235208-7.7524041e-03j  0.01526793-1.0477750e-02j\n",
      " -0.00037222-3.0218945e-03j -0.0001405 +3.2961270e-04j\n",
      " -0.00018082-1.5672297e-03j  0.01418895-4.7269468e-03j\n",
      "  0.01322937+3.6926270e-03j -0.00155747+6.3674373e-04j\n",
      "  0.01373082-5.5813738e-03j  0.01430953-8.6291996e-04j\n",
      "  0.01605988-2.0926739e-03j  0.01556119-1.1972607e-03j\n",
      " -0.0039453 +5.5810082e-04j  0.00028894-1.6091409e-03j\n",
      "  0.00193742+9.4501500e-04j  0.01428435+2.1812831e-04j\n",
      "  0.01721797-3.2771507e-04j  0.02001984+9.5909613e-04j\n",
      " -0.0029397 -7.1728381e-04j  0.00037888-6.0407544e-04j\n",
      "  0.01752784-2.2045284e-04j  0.01841688-9.1870599e-05j]\n"
     ]
    }
   ],
   "source": [
    "rx0.second_time_sync()\n",
    "rx0.disassemble()\n",
    "rx0.channel_est(1)\n",
    "rx0.demode_payload()\n",
    "rx0.channel_equ(1)\n"
   ]
  },
  {
   "cell_type": "markdown",
   "metadata": {},
   "source": [
    "# 测试\n",
    "六张图从左上到右下，分别是：时域、时间同步、信道相位、信道增益、均衡前星座图和均衡后星座图\n",
    "\n",
    "输入截断大小和peak后，然后摁一次按钮会进行一次采样和分析，在最下面的save frame按钮会将这一帧的数据保存到rtl_output中\n",
    "\n",
    "定位的图目前还没画，等待增加"
   ]
  },
  {
   "cell_type": "code",
   "execution_count": 8,
   "metadata": {},
   "outputs": [
    {
     "data": {
      "application/vnd.jupyter.widget-view+json": {
       "model_id": "7b7bd7c19c4d46b29d4aa7f2f4a19d6b",
       "version_major": 2,
       "version_minor": 0
      },
      "text/plain": [
       "VBox(children=(HBox(children=(Text(value='', description='start_index:'), Text(value='', description='end_inde…"
      ]
     },
     "metadata": {},
     "output_type": "display_data"
    }
   ],
   "source": [
    "def display_real_time_plots(rx_instance, update_interval=1):\n",
    "    \"\"\"\n",
    "    显示 RX 类实例的 time_sync_res_before_cutting 数组和星座图的实时更新图表。\n",
    "\n",
    "    参数：\n",
    "    rx_instance (RX): RX 类的实例\n",
    "    update_interval (int): 更新间隔时间（秒）\n",
    "    \"\"\"\n",
    "\n",
    "    # 初始化图表\n",
    "    fig_recv_sig = go.FigureWidget()\n",
    "    scatter_recv_sig = fig_recv_sig.add_scatter(y=rx_instance.recv_sig_after_cutting.real, mode='lines+markers')\n",
    "    fig_recv_sig.update_layout(\n",
    "        title='recv sig ',\n",
    "        xaxis_title='Index',\n",
    "        yaxis_title='Value',\n",
    "        yaxis=dict(range=[0, np.max(rx_instance.recv_sig_after_cutting.real) * 1.1])\n",
    "    )\n",
    "    \n",
    "    fig_time_sync = go.FigureWidget()\n",
    "    scatter_time_sync = fig_time_sync.add_scatter(y=rx_instance.time_sync_res_before_cutting, mode='lines+markers')\n",
    "    fig_time_sync.update_layout(\n",
    "        title='Time Sync Results Before Cutting',\n",
    "        xaxis_title='Index',\n",
    "        yaxis_title='Value',\n",
    "        yaxis=dict(range=[0, np.max(rx_instance.time_sync_res_before_cutting) * 1.1])\n",
    "    )\n",
    "    \n",
    "    fig_channel_phase = go.FigureWidget()\n",
    "    scatter_channel_phase = fig_channel_phase.add_scatter(y=rx_instance.channel_est_phase[0], mode='lines+markers')\n",
    "    fig_channel_phase.update_layout(\n",
    "        title='Channel Phase',\n",
    "        xaxis_title='Index',\n",
    "        yaxis_title='Value',\n",
    "        yaxis=dict(range=[0, np.max(rx_instance.channel_est_phase[0]) * 1.1])\n",
    "    )\n",
    "    \n",
    "    fig_channel_gain = go.FigureWidget()\n",
    "    scatter_channel_gain = fig_channel_gain.add_scatter(y=rx_instance.channel_est_gain[0], mode='lines+markers')\n",
    "    fig_channel_gain.update_layout(\n",
    "        title='Channel Gain',\n",
    "        xaxis_title='Index',\n",
    "        yaxis_title='Value',\n",
    "        yaxis=dict(range=[0, np.max(rx_instance.channel_est_gain[0]) * 1.1])\n",
    "    )\n",
    "    \n",
    "    fig_constellation_no_equ = go.FigureWidget()\n",
    "    scatter_constellation_no_equ = fig_constellation_no_equ.add_scatter(x=rx_instance.qam_symbs_after_ofdm_demode_1d.real, y=rx_instance.qam_symbs_after_ofdm_demode_1d.imag, mode='markers')\n",
    "    fig_constellation_no_equ.update_layout(\n",
    "        title='Constellation before equ',\n",
    "        xaxis_title='In-Phase',\n",
    "        yaxis_title='Quadrature',\n",
    "        xaxis=dict(range=[-2, 2],showticklabels=False),\n",
    "        yaxis=dict(range=[-2, 2],showticklabels=False)\n",
    "    )\n",
    "\n",
    "    fig_constellation_after_equ = go.FigureWidget()\n",
    "    scatter_constellation_after_equ = fig_constellation_after_equ.add_scatter(x=rx_instance.demode_res_after_channel_equ_1d.real, y=rx_instance.demode_res_after_channel_equ_1d.imag, mode='markers')\n",
    "    fig_constellation_after_equ.update_layout(\n",
    "        title='Constellation after equ',\n",
    "        xaxis_title='In-Phase',\n",
    "        yaxis_title='Quadrature',\n",
    "        xaxis=dict(range=[-2, 2],showticklabels=False),\n",
    "        yaxis=dict(range=[-2, 2],showticklabels=False)\n",
    "    )\n",
    "    \n",
    "    '''\n",
    "    fig_ranging_res = go.FigureWidget()\n",
    "    scatter_ranging_res = fig_ranging_res.add_scatter(y=rx_instance.ranging_res[0][0], mode='lines+markers')\n",
    "    fig_ranging_res.update_layout(\n",
    "        title='Time Sync Results Before Cutting',\n",
    "        xaxis_title='Index',\n",
    "        yaxis_title='Value',\n",
    "        yaxis=dict(range=[0, np.max(rx_instance.ranging_res[0][0]) * 1.1])\n",
    "    )\n",
    "    '''\n",
    "\n",
    "    def update_plots(start_index_int,end_index_int,peak_height_int):\n",
    "        dma_opts.rx_dma_transfer_once(rx_I_dma, output_I_buffer)\n",
    "        dma_opts.rx_dma_transfer_once(rx_Q_dma, output_Q_buffer)\n",
    "        df.save_array_to_file(ofdm_cfgs.RTL_OUTPUT_I_FILE, output_I_buffer[0:2000])\n",
    "        df.save_array_to_file(ofdm_cfgs.RTL_OUTPUT_Q_FILE, output_Q_buffer[0:2000])\n",
    "\n",
    "        rx_instance.reload_received_sig()\n",
    "        \n",
    "        rx_instance.first_time_sync()  # 更新数组\n",
    "        \n",
    "        rx_instance.cutting_recv_sig(start_index_int, end_index_int, peak_height_int)\n",
    "        rx_instance.second_time_sync()\n",
    "        rx_instance.disassemble()\n",
    "        rx_instance.channel_est(1)\n",
    "        rx_instance.demode_payload()\n",
    "        rx_instance.channel_equ(1)\n",
    "        #rx_instance.ranging()\n",
    "        \n",
    "        print(\"qam_symbs_after_ofdm_demode.real len = \",len(rx_instance.qam_symbs_after_ofdm_demode.real))\n",
    "        \n",
    "        print(rx_instance.demode_res_after_channel_equ_1d)\n",
    "        \n",
    "        \n",
    "        with fig_recv_sig.batch_update():\n",
    "            scatter_recv_sig.data[0].y = rx_instance.recv_sig_after_cutting.real\n",
    "            scatter_recv_sig.data[0].x = list(range(len(rx_instance.recv_sig_after_cutting.real)))\n",
    "            fig_recv_sig.update_layout(\n",
    "                yaxis=dict(range=[0, np.max(rx_instance.recv_sig_after_cutting.real) * 1.1])\n",
    "            )\n",
    "        \n",
    "        with fig_time_sync.batch_update():\n",
    "            scatter_time_sync.data[0].y = rx_instance.time_sync_res_before_cutting\n",
    "            scatter_time_sync.data[0].x = list(range(len(rx_instance.time_sync_res_before_cutting)))\n",
    "            fig_time_sync.update_layout(\n",
    "                yaxis=dict(range=[0, np.max(rx_instance.time_sync_res_before_cutting) * 1.1])\n",
    "            )\n",
    "            \n",
    "        with fig_channel_phase.batch_update():\n",
    "            scatter_channel_phase.data[0].y = rx_instance.channel_est_phase[0]\n",
    "            scatter_channel_phase.data[0].x = list(range(len(rx_instance.channel_est_phase[0])))\n",
    "            fig_channel_phase.update_layout(\n",
    "                yaxis=dict(range=[0, np.max(rx_instance.channel_est_phase[0]) * 1.1])\n",
    "            )\n",
    "            \n",
    "        with fig_channel_gain.batch_update():\n",
    "            scatter_channel_gain.data[0].y = rx_instance.channel_est_gain[0]\n",
    "            scatter_channel_gain.data[0].x = list(range(len(rx_instance.channel_est_gain[0])))\n",
    "            fig_channel_gain.update_layout(\n",
    "                yaxis=dict(range=[0, np.max(rx_instance.channel_est_gain[0]) * 1.1])\n",
    "        )\n",
    "            \n",
    "        with fig_constellation_no_equ.batch_update():\n",
    "            scatter_constellation_no_equ.data[0].x = rx_instance.qam_symbs_after_ofdm_demode_1d.real\n",
    "            scatter_constellation_no_equ.data[0].y = rx_instance.qam_symbs_after_ofdm_demode_1d.imag\n",
    "            \n",
    "        with fig_constellation_after_equ.batch_update():\n",
    "            scatter_constellation_after_equ.data[0].x = rx_instance.demode_res_after_channel_equ_1d.real\n",
    "            scatter_constellation_after_equ.data[0].y = rx_instance.demode_res_after_channel_equ_1d.imag\n",
    "\n",
    "        '''\n",
    "        with fig_ranging_res.batch_update():\n",
    "            scatter_ranging_res.data[0].y = rx_instance.ranging_res[0][0]\n",
    "            scatter_ranging_res.data[0].x = list(range(len(rx_instance.ranging_res[0][0])))\n",
    "            fig_ranging_res.update_layout(\n",
    "                yaxis=dict(range=[0, np.max(rx_instance.ranging_res[0][0]) * 1.1])\n",
    "            )\n",
    "        '''\n",
    "    # 创建输入框\n",
    "    start_index_input = widgets.Text(value='', description='start_index:', disabled=False)\n",
    "    end_index_input = widgets.Text(value='', description='end_index:', disabled=False)\n",
    "    peak_height_input = widgets.Text(value='', description='peak_height:', disabled=False)\n",
    "    \n",
    "    # 创建更新按钮\n",
    "    button = widgets.Button(description='Update and Read')\n",
    "    button_save_rx_output = widgets.Button(description='save frame')\n",
    "\n",
    "    # 创建文本输出区域\n",
    "    output = widgets.Output()\n",
    "\n",
    "    # 定义按钮点击事件\n",
    "    def on_button_click(b):\n",
    "        with output:\n",
    "            clear_output(wait=True)  # 清空之前的输出\n",
    "            print(f'你输入的内容是: start_index = {start_index_input.value}, end_index = {end_index_input.value}, peak_height = {peak_height_input.value}')\n",
    "\n",
    "        start_index_int = int(start_index_input.value)\n",
    "        end_index_int = int(end_index_input.value)\n",
    "        peak_height_int = int(float(peak_height_input.value))\n",
    "\n",
    "        print(\"start_index_int =\", start_index_int, \"end_index_int\", end_index_int, \"peak_height_int\", peak_height_int)\n",
    "\n",
    "        \n",
    "\n",
    "        update_plots(start_index_int, end_index_int, peak_height_int)\n",
    "    \n",
    "    def on_button_click_save_rx_output(b):\n",
    "        rx0.save_rx_to_file(\"/home/xilinx/jupyter_notebooks/summer/dats/rx_output/\")\n",
    "        \n",
    "        with output:\n",
    "            clear_output(wait=True)  # 清空之前的输出\n",
    "            print(\"写入成功\")\n",
    "\n",
    "\n",
    "    button.on_click(on_button_click)\n",
    "    button_save_rx_output.on_click(on_button_click_save_rx_output)\n",
    "\n",
    "    # 使用 HBox 组件显示输入框和按钮\n",
    "    input_box = widgets.HBox([start_index_input, end_index_input, peak_height_input])\n",
    "    # 使用 HBox 组件显示图表\n",
    "    hbox0 = widgets.HBox([fig_recv_sig, fig_time_sync])\n",
    "    hbox1 = widgets.HBox([fig_channel_phase, fig_channel_gain])\n",
    "    hbox2 = widgets.HBox([fig_constellation_no_equ, fig_constellation_after_equ])\n",
    "    #hbox3 = widgets.Hbox([fig_ranging_res])\n",
    "    vbox = widgets.VBox([input_box, button, output, hbox0, hbox1 , hbox2, button_save_rx_output])\n",
    "    display(vbox)\n",
    "\n",
    "display_real_time_plots(rx0, update_interval=1)\n",
    "#scatterplot(rx0.qam_symbs_after_ofdm_demode.real,rx0.qam_symbs_after_ofdm_demode.imag,ax=None)"
   ]
  },
  {
   "cell_type": "markdown",
   "metadata": {},
   "source": [
    "# 自动更新的星座图\n",
    "rx_instance.cutting_recv_sig(0,2000,8e20) 需要在这里修改峰的值"
   ]
  },
  {
   "cell_type": "code",
   "execution_count": null,
   "metadata": {},
   "outputs": [],
   "source": [
    "def display_real_time_plots(rx_instance, update_interval=1):\n",
    "    \"\"\"\n",
    "    显示 RX 类实例的 time_sync_res_before_cutting 数组和星座图的实时更新图表。\n",
    "\n",
    "    参数：\n",
    "    rx_instance (RX): RX 类的实例\n",
    "    update_interval (int): 更新间隔时间（秒）\n",
    "    \"\"\"\n",
    "\n",
    "    # 初始化图表\n",
    "    fig_time_sync = go.FigureWidget()\n",
    "    scatter_time_sync = fig_time_sync.add_scatter(y=rx_instance.time_sync_res_before_cutting, mode='lines+markers')\n",
    "    fig_time_sync.update_layout(\n",
    "        title='Time Sync Results Before Cutting',\n",
    "        xaxis_title='Index',\n",
    "        yaxis_title='Value',\n",
    "        yaxis=dict(range=[0, np.max(rx_instance.time_sync_res_before_cutting) * 1.1])\n",
    "    )\n",
    "\n",
    "    fig_constellation = go.FigureWidget()\n",
    "    scatter_constellation = fig_constellation.add_scatter(x=rx_instance.demode_res_after_channel_equ_1d.real, y=rx_instance.demode_res_after_channel_equ_1d.imag, mode='markers')\n",
    "    fig_constellation.update_layout(\n",
    "        title='Constellation Diagram',\n",
    "        xaxis_title='In-Phase',\n",
    "        yaxis_title='Quadrature',\n",
    "        xaxis=dict(range=[-100000, 100000], showticklabels=False),\n",
    "        yaxis=dict(range=[-100000, 100000], showticklabels=False)\n",
    "    )\n",
    "\n",
    "    def update_plots():\n",
    "        for j in range (1):\n",
    "            dma_opts.rx_dma_transfer_once(rx_I_dma, output_I_buffer)\n",
    "            dma_opts.rx_dma_transfer_once(rx_Q_dma, output_Q_buffer)\n",
    "            df.save_array_to_file(ofdm_cfgs.RTL_OUTPUT_I_FILE, output_I_buffer[0:2000])\n",
    "            df.save_array_to_file(ofdm_cfgs.RTL_OUTPUT_Q_FILE, output_Q_buffer[0:2000])\n",
    "\n",
    "            rx_instance.reload_received_sig()\n",
    "            rx_instance.first_time_sync()  # 更新数组\n",
    "            rx_instance.cutting_recv_sig(0,2000,8e20)\n",
    "            rx_instance.second_time_sync()\n",
    "            rx_instance.disassemble()\n",
    "            rx_instance.channel_est(1)\n",
    "            rx_instance.demode_payload()\n",
    "            rx_instance.channel_equ(1)\n",
    "\n",
    "            with fig_time_sync.batch_update():\n",
    "                scatter_time_sync.data[0].y = rx_instance.time_sync_res_before_cutting\n",
    "                scatter_time_sync.data[0].x = list(range(len(rx_instance.time_sync_res_before_cutting)))\n",
    "                fig_time_sync.update_layout(\n",
    "                    yaxis=dict(range=[0, np.max(rx_instance.time_sync_res_before_cutting) * 1.1])\n",
    "                )\n",
    "            with fig_constellation.batch_update():\n",
    "                scatter_constellation.data[0].x = rx_instance.demode_res_after_channel_equ_1d.real\n",
    "                scatter_constellation.data[0].y = rx_instance.demode_res_after_channel_equ_1d.imag\n",
    "            \n",
    "            #rx_instance.plt_all_qam_constellation()\n",
    "            #plt.show()\n",
    "                \n",
    "                \n",
    "            #time.sleep(update_interval)\n",
    "\n",
    "    # 创建输入框\n",
    "    start_index_input = widgets.Text(value='0', description='start_index:', disabled=False)\n",
    "    end_index_input = widgets.Text(value='2000', description='end_index:', disabled=False)\n",
    "    peak_height_input = widgets.Text(value='1.0', description='peak_height:', disabled=False)\n",
    "    \n",
    "    # 创建文本输出区域\n",
    "    output = widgets.Output()\n",
    "\n",
    "    def update_inputs():\n",
    "        with output:\n",
    "            clear_output(wait=True)  # 清空之前的输出\n",
    "            print(f'你输入的内容是: start_index = {start_index_input.value}, end_index = {end_index_input.value}, peak_height = {peak_height_input.value}')\n",
    "\n",
    "        start_index_int = int(start_index_input.value)\n",
    "        end_index_int = int(end_index_input.value)\n",
    "        peak_height_int = int(float(peak_height_input.value))\n",
    "\n",
    "        rx_instance.cutting_recv_sig(start_index_int, end_index_int, peak_height_int)\n",
    "\n",
    "    def periodic_update():\n",
    "        while True:\n",
    "            #update_inputs()\n",
    "            update_plots()\n",
    "            #time.sleep(update_interval)\n",
    "\n",
    "    # 使用 HBox 组件显示输入框\n",
    "    input_box = widgets.HBox([start_index_input, end_index_input, peak_height_input])\n",
    "    # 使用 HBox 组件显示图表\n",
    "    hbox = widgets.HBox([fig_time_sync, fig_constellation])\n",
    "    vbox = widgets.VBox([input_box, hbox, output])\n",
    "    display(vbox)\n",
    "\n",
    "    periodic_update()\n",
    "\n",
    "display_real_time_plots(rx0, update_interval=1)"
   ]
  },
  {
   "cell_type": "code",
   "execution_count": null,
   "metadata": {},
   "outputs": [],
   "source": [
    "rx0.plt_recv_sig()"
   ]
  }
 ],
 "metadata": {
  "kernelspec": {
   "display_name": "Python 3 (ipykernel)",
   "language": "python",
   "name": "python3"
  },
  "language_info": {
   "codemirror_mode": {
    "name": "ipython",
    "version": 3
   },
   "file_extension": ".py",
   "mimetype": "text/x-python",
   "name": "python",
   "nbconvert_exporter": "python",
   "pygments_lexer": "ipython3",
   "version": "3.10.4"
  }
 },
 "nbformat": 4,
 "nbformat_minor": 2
}
